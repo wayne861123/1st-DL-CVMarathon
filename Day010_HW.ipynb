{
 "cells": [
  {
   "cell_type": "code",
   "execution_count": 75,
   "metadata": {},
   "outputs": [
    {
     "name": "stdout",
     "output_type": "stream",
     "text": [
      "<grab.document.Document object at 0x000001E608FC7BF8>\n"
     ]
    }
   ],
   "source": [
    "from grab import Grab\n",
    "from pyquery import PyQuery as pq\n",
    "g=Grab()\n",
    "cookies={\"over18\":\"1\"}\n",
    "res=g.go(\"https://www.ptt.cc/bbs/Beauty/M.1556291059.A.75A.html\",cookies=cookies)\n",
    "print(res)"
   ]
  },
  {
   "cell_type": "code",
   "execution_count": 71,
   "metadata": {},
   "outputs": [
    {
     "name": "stdout",
     "output_type": "stream",
     "text": [
      "<a href=\"//imgur.com/Cgb5oo1\"/><a href=\"//imgur.com/MgjHY4f\"/><a href=\"//imgur.com/yeoRtAs\"/><a href=\"//imgur.com/wsauNEW\"/><a href=\"//imgur.com/IjiETcs\"/>\n"
     ]
    }
   ],
   "source": [
    "doc=pq(res.body)\n",
    "a=doc(\"div\").filter(\"#main-container\")(\"div\").filter(\"#main-content\")(\"div\").filter(\".richcontent\")(\"a\")\n",
    "print(a)\n"
   ]
  },
  {
   "cell_type": "code",
   "execution_count": 82,
   "metadata": {},
   "outputs": [
    {
     "name": "stdout",
     "output_type": "stream",
     "text": [
      "http://i.imgur.com/Cgb5oo1.jpg\n",
      "<grab.document.Document object at 0x000001E6091D6268>\n",
      "None\n",
      "http://i.imgur.com/MgjHY4f.jpg\n",
      "<grab.document.Document object at 0x000001E6091D6488>\n",
      "None\n",
      "http://i.imgur.com/yeoRtAs.jpg\n",
      "<grab.document.Document object at 0x000001E6091D6268>\n",
      "None\n",
      "http://i.imgur.com/wsauNEW.jpg\n",
      "<grab.document.Document object at 0x000001E6091D6488>\n",
      "None\n",
      "http://i.imgur.com/IjiETcs.jpg\n",
      "<grab.document.Document object at 0x000001E6091D6268>\n",
      "None\n"
     ]
    }
   ],
   "source": [
    "for i in a:\n",
    "    url=\"http://i.\"+i.get(\"href\")[2:]+\".jpg\"\n",
    "    print(url)\n",
    "    print(g.go(url))\n",
    "    print(g.doc.save(i.get(\"href\")[12:]+\".jpg\"))\n",
    "    "
   ]
  },
  {
   "cell_type": "code",
   "execution_count": null,
   "metadata": {},
   "outputs": [],
   "source": []
  }
 ],
 "metadata": {
  "kernelspec": {
   "display_name": "Python 3",
   "language": "python",
   "name": "python3"
  },
  "language_info": {
   "codemirror_mode": {
    "name": "ipython",
    "version": 3
   },
   "file_extension": ".py",
   "mimetype": "text/x-python",
   "name": "python",
   "nbconvert_exporter": "python",
   "pygments_lexer": "ipython3",
   "version": "3.7.5"
  }
 },
 "nbformat": 4,
 "nbformat_minor": 2
}
