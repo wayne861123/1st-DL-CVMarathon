{
 "cells": [
  {
   "cell_type": "code",
   "execution_count": 1,
   "metadata": {},
   "outputs": [
    {
     "name": "stdout",
     "output_type": "stream",
     "text": [
      "Request 取回之後用 res.text ,將資料取出\n",
      "資料型態為 <class 'str'>\n"
     ]
    }
   ],
   "source": [
    "import requests\n",
    "\n",
    "res=requests.get(\"https://www.dcard.tw/f\")\n",
    "\n",
    "print(\"Request 取回之後用 res.text ,將資料取出\")\n",
    "print(\"資料型態為\",type(res.text))\n"
   ]
  },
  {
   "cell_type": "code",
   "execution_count": 2,
   "metadata": {},
   "outputs": [
    {
     "name": "stdout",
     "output_type": "stream",
     "text": [
      "將字串轉為beautifulsoup物件，解析\n"
     ]
    }
   ],
   "source": [
    "print(\"將字串轉為beautifulsoup物件，解析\")\n"
   ]
  },
  {
   "cell_type": "code",
   "execution_count": 7,
   "metadata": {},
   "outputs": [
    {
     "name": "stdout",
     "output_type": "stream",
     "text": [
      "<Response [200]>\n",
      "在requests.get加入headers\n"
     ]
    }
   ],
   "source": [
    "headers={\"user-agent\": \"Mozilla/5.0 (Windows NT 10.0; Win64; x64) AppleWebKit/537.36 (KHTML, like Gecko) Chrome/80.0.3987.132 Safari/537.36\"}\n",
    "res=requests.get(\"https://www.zhihu.com/explore\",headers=headers)\n",
    "print(res)\n",
    "print(\"在requests.get加入headers\")"
   ]
  },
  {
   "cell_type": "code",
   "execution_count": null,
   "metadata": {},
   "outputs": [],
   "source": []
  }
 ],
 "metadata": {
  "kernelspec": {
   "display_name": "Python 3",
   "language": "python",
   "name": "python3"
  },
  "language_info": {
   "codemirror_mode": {
    "name": "ipython",
    "version": 3
   },
   "file_extension": ".py",
   "mimetype": "text/x-python",
   "name": "python",
   "nbconvert_exporter": "python",
   "pygments_lexer": "ipython3",
   "version": "3.7.5"
  }
 },
 "nbformat": 4,
 "nbformat_minor": 2
}
