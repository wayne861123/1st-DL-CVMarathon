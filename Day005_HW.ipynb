{
 "cells": [
  {
   "cell_type": "code",
   "execution_count": 1,
   "metadata": {},
   "outputs": [],
   "source": [
    "import requests\n",
    "\n",
    "res=requests.get(\"https://www.dcard.tw/_api/forums/pet/posts?popular=true\")"
   ]
  },
  {
   "cell_type": "code",
   "execution_count": 3,
   "metadata": {},
   "outputs": [
    {
     "name": "stdout",
     "output_type": "stream",
     "text": [
      "一次會回傳 30 筆資料\n",
      "每一筆資料包含 ['id', 'title', 'excerpt', 'anonymousSchool', 'anonymousDepartment', 'pinned', 'forumId', 'replyId', 'createdAt', 'updatedAt', 'commentCount', 'likeCount', 'withNickname', 'tags', 'topics', 'meta', 'forumName', 'forumAlias', 'gender', 'school', 'department', 'replyTitle', 'mediaMeta', 'reactions', 'hidden', 'customStyle', 'isSuspiciousAccount', 'layout', 'withImages', 'withVideos', 'media', 'reportReasonText', 'postAvatar'] 欄位\n"
     ]
    }
   ],
   "source": [
    "import json\n",
    "\n",
    "resj=json.loads(res.text)\n",
    "\n",
    "print(\"一次會回傳\",len(resj),\"筆資料\")\n",
    "print(\"每一筆資料包含\",list(resj[0].keys()),\"欄位\")"
   ]
  },
  {
   "cell_type": "code",
   "execution_count": 4,
   "metadata": {},
   "outputs": [
    {
     "name": "stdout",
     "output_type": "stream",
     "text": [
      "標題: 特殊寵物|貼文時間: 2020-03-07T08:26:11.633Z|留言人數: 51|按讚人數: 1614\n",
      "標題: 聽說只要拿出胸背帶|貼文時間: 2020-03-07T05:24:03.483Z|留言人數: 24|按讚人數: 1121\n",
      "標題: 有人知道這隻貓咪嗎～|貼文時間: 2020-03-07T01:49:40.767Z|留言人數: 7|按讚人數: 86\n",
      "標題: 我家的小ㄎㄧㄤ狗|貼文時間: 2020-03-07T11:57:17.665Z|留言人數: 3|按讚人數: 84\n",
      "標題: 睡覺會自己蓋被子的兔子🐰（？|貼文時間: 2020-03-07T11:11:02.789Z|留言人數: 12|按讚人數: 82\n",
      "標題: 網美初體驗|貼文時間: 2020-03-07T03:32:41.062Z|留言人數: 6|按讚人數: 41\n",
      "標題: 那個⋯陽光太亮了|貼文時間: 2020-03-07T10:05:56.433Z|留言人數: 3|按讚人數: 28\n",
      "標題: 如何照顧一隻幼犬?|貼文時間: 2020-03-07T17:00:35.206Z|留言人數: 7|按讚人數: 27\n",
      "標題: #領養代替購買#圖多 #長毛柴驚喜包|貼文時間: 2020-03-07T08:53:00.167Z|留言人數: 2|按讚人數: 23\n",
      "標題: 原來你一直這樣看待我|貼文時間: 2020-03-07T03:22:24.383Z|留言人數: 3|按讚人數: 22\n",
      "標題: 我家兔子啃破了牛奶……|貼文時間: 2020-03-07T00:09:50.348Z|留言人數: 3|按讚人數: 22\n",
      "標題: 我養小偷|貼文時間: 2020-03-07T13:34:06.004Z|留言人數: 2|按讚人數: 21\n",
      "標題: 太平洋鸚鵡初體驗🥰（文長）|貼文時間: 2020-03-06T18:08:39.766Z|留言人數: 11|按讚人數: 18\n",
      "標題: 我只是炫耀捕獲喵豆子😚|貼文時間: 2020-03-07T13:06:16.990Z|留言人數: 5|按讚人數: 16\n",
      "標題: 犬種介紹特輯6 白騎士 牛頭梗~|貼文時間: 2020-03-07T10:43:09.287Z|留言人數: 3|按讚人數: 15\n",
      "標題: 幫我的貓畫了一張畫像（更新醫生的畫）|貼文時間: 2020-03-07T06:03:18.398Z|留言人數: 3|按讚人數: 15\n",
      "標題: 你有看過蝸牛貓嗎？|貼文時間: 2020-03-08T00:50:40.093Z|留言人數: 0|按讚人數: 11\n",
      "標題: 動物溝通|貼文時間: 2020-03-07T15:07:28.241Z|留言人數: 3|按讚人數: 11\n",
      "標題: 可愛石虎|貼文時間: 2020-03-07T02:37:00.045Z|留言人數: 4|按讚人數: 11\n",
      "標題: 兩隻愛吃醋又愛膩在一起的柯基寶寶|貼文時間: 2020-03-07T08:13:43.875Z|留言人數: 1|按讚人數: 8\n",
      "標題: 請問這是貓蝨嗎？|貼文時間: 2020-03-06T17:04:11.381Z|留言人數: 14|按讚人數: 7\n",
      "標題: 分辨寵物蛇之不專業心得|貼文時間: 2020-03-07T07:48:12.413Z|留言人數: 16|按讚人數: 6\n",
      "標題: 請問這狗寶寶叫什麼~|貼文時間: 2020-03-06T16:43:32.702Z|留言人數: 1|按讚人數: 6\n",
      "標題: 人家遛狗我遛鳥|貼文時間: 2020-03-08T02:52:40.378Z|留言人數: 1|按讚人數: 5\n",
      "標題: 在美國的美國短毛貓|貼文時間: 2020-03-07T21:18:24.944Z|留言人數: 1|按讚人數: 5\n",
      "標題: 寵物像主人？|貼文時間: 2020-03-07T15:31:51.804Z|留言人數: 0|按讚人數: 5\n",
      "標題: 我說睡就睡 啪兔✌🏻|貼文時間: 2020-03-07T12:18:14.521Z|留言人數: 0|按讚人數: 5\n",
      "標題: 送養文|貼文時間: 2020-03-07T02:07:31.939Z|留言人數: 0|按讚人數: 5\n",
      "標題: #問 一顆蛋蛋的隱睪症|貼文時間: 2020-03-06T17:52:01.962Z|留言人數: 3|按讚人數: 5\n",
      "標題: 螯蝦這樣是不是要脫殼了？？|貼文時間: 2020-03-06T17:51:45.998Z|留言人數: 14|按讚人數: 5\n"
     ]
    }
   ],
   "source": [
    "for post in resj:\n",
    "    print(\"標題:\",post[\"title\"],end=\"|\")\n",
    "    print(\"貼文時間:\",post[\"createdAt\"],end=\"|\")\n",
    "    print(\"留言人數:\",post[\"commentCount\"],end=\"|\")\n",
    "    print(\"按讚人數:\",post[\"likeCount\"])"
   ]
  },
  {
   "cell_type": "code",
   "execution_count": 8,
   "metadata": {},
   "outputs": [
    {
     "name": "stdout",
     "output_type": "stream",
     "text": [
      "熱門文章\n",
      "平均留言人數: 6 |平均按讚人數: 104\n",
      "非熱門文章\n",
      "平均留言人數: 1 |平均按讚人數: 9\n"
     ]
    }
   ],
   "source": [
    "comment=0\n",
    "like=0\n",
    "for post in resj:\n",
    "    comment+=post[\"commentCount\"]\n",
    "    like+=post[\"likeCount\"]\n",
    "comment=comment//len(post)\n",
    "like=like//len(post)\n",
    "print(\"熱門文章\")\n",
    "print(\"平均留言人數:\",comment,end=\" |\")\n",
    "print(\"平均按讚人數:\",like)\n",
    "\n",
    "\n",
    "\n",
    "print(\"非熱門文章\")\n",
    "res=requests.get(\"https://www.dcard.tw/_api/forums/pet/posts?popular=false\")\n",
    "resj=json.loads(res.text)\n",
    "comment=0\n",
    "like=0\n",
    "for post in resj:\n",
    "    comment+=post[\"commentCount\"]\n",
    "    like+=post[\"likeCount\"]\n",
    "comment=comment//len(post)\n",
    "like=like//len(post)\n",
    "print(\"平均留言人數:\",comment,end=\" |\")\n",
    "print(\"平均按讚人數:\",like)"
   ]
  },
  {
   "cell_type": "code",
   "execution_count": null,
   "metadata": {},
   "outputs": [],
   "source": []
  }
 ],
 "metadata": {
  "kernelspec": {
   "display_name": "Python 3",
   "language": "python",
   "name": "python3"
  },
  "language_info": {
   "codemirror_mode": {
    "name": "ipython",
    "version": 3
   },
   "file_extension": ".py",
   "mimetype": "text/x-python",
   "name": "python",
   "nbconvert_exporter": "python",
   "pygments_lexer": "ipython3",
   "version": "3.7.5"
  }
 },
 "nbformat": 4,
 "nbformat_minor": 2
}
