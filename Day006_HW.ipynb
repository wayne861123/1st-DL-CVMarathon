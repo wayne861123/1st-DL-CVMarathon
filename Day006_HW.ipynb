{
 "cells": [
  {
   "cell_type": "code",
   "execution_count": 2,
   "metadata": {},
   "outputs": [
    {
     "name": "stdout",
     "output_type": "stream",
     "text": [
      "知乎問題發問時間: 1486390229\n",
      "第一筆回答的時間: 1486429969\n",
      "最後一筆回答的時間: 1583366958\n"
     ]
    }
   ],
   "source": [
    "import requests\n",
    "import json\n",
    "\n",
    "headers={\"user-agent\": \"Mozilla/5.0 (Windows NT 10.0; Win64; x64) AppleWebKit/537.36 (KHTML, like Gecko) Chrome/80.0.3987.132 Safari/537.36\"}\n",
    "\n",
    "url=\"https://www.zhihu.com/api/v4/questions/55493026/answers?limit=5&offset=0\"\n",
    "a_f=None\n",
    "a_l=None\n",
    "while(1):\n",
    "    #print(url)\n",
    "    res=requests.get(url,headers=headers)\n",
    "    resj=json.loads(res.text)\n",
    "    url=resj[\"paging\"][\"next\"]\n",
    "    if(resj[\"data\"]==[]):\n",
    "        q=item[\"question\"][\"created\"]\n",
    "        break\n",
    "    for item in resj[\"data\"]:\n",
    "        #print(item[\"created_time\"])\n",
    "        #print(item[\"question\"][\"created\"])\n",
    "        if(a_f==None and a_l==None):\n",
    "            a_f=item[\"created_time\"]\n",
    "            a_l=item[\"created_time\"]\n",
    "        else:\n",
    "            if(item[\"created_time\"]<a_f):\n",
    "                a_f=item[\"created_time\"]\n",
    "            elif(item[\"created_time\"]>a_l):\n",
    "                a_l=item[\"created_time\"]\n",
    "            \n",
    "print(\"知乎問題發問時間:\",q)\n",
    "print(\"第一筆回答的時間:\",a_f)\n",
    "print(\"最後一筆回答的時間:\",a_l)"
   ]
  },
  {
   "cell_type": "code",
   "execution_count": null,
   "metadata": {},
   "outputs": [],
   "source": []
  }
 ],
 "metadata": {
  "kernelspec": {
   "display_name": "Python 3",
   "language": "python",
   "name": "python3"
  },
  "language_info": {
   "codemirror_mode": {
    "name": "ipython",
    "version": 3
   },
   "file_extension": ".py",
   "mimetype": "text/x-python",
   "name": "python",
   "nbconvert_exporter": "python",
   "pygments_lexer": "ipython3",
   "version": "3.7.5"
  }
 },
 "nbformat": 4,
 "nbformat_minor": 2
}
