{
 "cells": [
  {
   "cell_type": "code",
   "execution_count": 1,
   "metadata": {},
   "outputs": [],
   "source": [
    "import re"
   ]
  },
  {
   "cell_type": "code",
   "execution_count": 2,
   "metadata": {},
   "outputs": [],
   "source": [
    "def RegexMatchingTest(regex, input_text):\n",
    "    #將正規表達式轉換成pattern\n",
    "    pattern = regex#re.compile(regex)\n",
    "    \n",
    "    # 使轉換後的pattern，來測試是否匹配\n",
    "    result = re.search(pattern, input_text)\n",
    "    \n",
    "    for i in range(1,result.lastindex+1):\n",
    "        if(int(result.group(i))>255):\n",
    "            return \"不合法IP\"\n",
    "    return \"合法IP\""
   ]
  },
  {
   "cell_type": "code",
   "execution_count": 3,
   "metadata": {},
   "outputs": [
    {
     "name": "stdout",
     "output_type": "stream",
     "text": [
      "不合法IP\n"
     ]
    }
   ],
   "source": [
    "regex = '(\\d{1,3}).(\\d{1,3}).(\\d{1,3}).(\\d{1,3})'\n",
    "input_text = \"Test IP 999.888.777.666\"\n",
    "\n",
    "print(RegexMatchingTest(regex, input_text))"
   ]
  },
  {
   "cell_type": "code",
   "execution_count": 4,
   "metadata": {},
   "outputs": [
    {
     "name": "stdout",
     "output_type": "stream",
     "text": [
      "合法IP\n"
     ]
    }
   ],
   "source": [
    "input_text = \"Test IP 216.58.200.227\"\n",
    "\n",
    "print(RegexMatchingTest(regex, input_text))"
   ]
  },
  {
   "cell_type": "code",
   "execution_count": 5,
   "metadata": {},
   "outputs": [],
   "source": [
    "def RegexMatchingTest(regex, input_text):\n",
    "    #將正規表達式轉換成pattern\n",
    "    pattern = regex#re.compile(regex)\n",
    "    \n",
    "    # 使轉換後的pattern，來測試是否匹配\n",
    "    result_start = re.search(pattern, input_text)\n",
    "    result_end=re.search(\"\\s|>\", input_text[result_start.end():])\n",
    "    return input_text[result_start.end():result_end.start()+result_start.end()]"
   ]
  },
  {
   "cell_type": "code",
   "execution_count": 6,
   "metadata": {},
   "outputs": [
    {
     "name": "stdout",
     "output_type": "stream",
     "text": [
      "https://movies.yahoo.com.tw/movietime_result.html/id=9467\n"
     ]
    }
   ],
   "source": [
    "html_a_tag = \"<a href=https://movies.yahoo.com.tw/movietime_result.html/id=9467> 時刻表 </a>\"\n",
    "regex = \"href=\"\n",
    "print(RegexMatchingTest(regex, html_a_tag))"
   ]
  },
  {
   "cell_type": "code",
   "execution_count": null,
   "metadata": {},
   "outputs": [],
   "source": []
  }
 ],
 "metadata": {
  "kernelspec": {
   "display_name": "Python 3",
   "language": "python",
   "name": "python3"
  },
  "language_info": {
   "codemirror_mode": {
    "name": "ipython",
    "version": 3
   },
   "file_extension": ".py",
   "mimetype": "text/x-python",
   "name": "python",
   "nbconvert_exporter": "python",
   "pygments_lexer": "ipython3",
   "version": "3.7.5"
  }
 },
 "nbformat": 4,
 "nbformat_minor": 2
}
