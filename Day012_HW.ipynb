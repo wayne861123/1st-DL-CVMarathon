{
 "cells": [
  {
   "cell_type": "code",
   "execution_count": 1,
   "metadata": {},
   "outputs": [],
   "source": [
    "import requests\n",
    "from bs4 import BeautifulSoup as bs"
   ]
  },
  {
   "cell_type": "code",
   "execution_count": 2,
   "metadata": {},
   "outputs": [],
   "source": [
    "url=\"https://www.ettoday.net/news/news-list.htm\"\n",
    "res=requests.get(url)"
   ]
  },
  {
   "cell_type": "code",
   "execution_count": 3,
   "metadata": {},
   "outputs": [],
   "source": [
    "soup=bs(res.text,\"lxml\")"
   ]
  },
  {
   "cell_type": "code",
   "execution_count": 4,
   "metadata": {},
   "outputs": [],
   "source": [
    "a=soup.find(\"div\",class_=\"container_box\").find(\"div\",class_=\"c1\").find(\"div\",class_=\"block_content\").find(\"div\",class_=\"part_list_2\").find_all(\"a\")\n",
    "em=soup.find(\"div\",class_=\"container_box\").find(\"div\",class_=\"c1\").find(\"div\",class_=\"block_content\").find(\"div\",class_=\"part_list_2\").find_all(\"em\")\n",
    "span=soup.find(\"div\",class_=\"container_box\").find(\"div\",class_=\"c1\").find(\"div\",class_=\"block_content\").find(\"div\",class_=\"part_list_2\").find_all(\"span\")"
   ]
  },
  {
   "cell_type": "code",
   "execution_count": 5,
   "metadata": {},
   "outputs": [],
   "source": [
    "post=dict()\n",
    "for category,title in zip(em,a):\n",
    "    if(category.text not in post):\n",
    "        post.update({category.text:[title.text]})\n",
    "    else:\n",
    "        post[category.text].append(title.text)"
   ]
  },
  {
   "cell_type": "code",
   "execution_count": 6,
   "metadata": {},
   "outputs": [
    {
     "name": "stdout",
     "output_type": "stream",
     "text": [
      "時尚:3\n",
      "生活:17\n",
      "地方:7\n",
      "影劇:11\n",
      "政治:4\n",
      "體育:14\n",
      "國際:13\n",
      "房產雲:3\n",
      "旅遊:3\n",
      "大陸:8\n",
      "寵物動物:7\n",
      "社會:8\n",
      "財經:1\n",
      "ET車雲:1\n",
      "生活 是最多的，有 17 個\n"
     ]
    }
   ],
   "source": [
    "c=0\n",
    "for i in post:\n",
    "    print(\"{}:{}\".format(i,len(post[i])))\n",
    "    if(len(post[i])>c):\n",
    "        c=len(post[i])\n",
    "        t=i\n",
    "        \n",
    "print(t,\"是最多的，有\",c,\"個\")"
   ]
  },
  {
   "cell_type": "code",
   "execution_count": null,
   "metadata": {},
   "outputs": [],
   "source": []
  }
 ],
 "metadata": {
  "kernelspec": {
   "display_name": "Python 3",
   "language": "python",
   "name": "python3"
  },
  "language_info": {
   "codemirror_mode": {
    "name": "ipython",
    "version": 3
   },
   "file_extension": ".py",
   "mimetype": "text/x-python",
   "name": "python",
   "nbconvert_exporter": "python",
   "pygments_lexer": "ipython3",
   "version": "3.7.5"
  }
 },
 "nbformat": 4,
 "nbformat_minor": 2
}
