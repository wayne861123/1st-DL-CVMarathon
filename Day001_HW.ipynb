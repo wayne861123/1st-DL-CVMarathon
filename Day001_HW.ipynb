{
 "cells": [
  {
   "cell_type": "code",
   "execution_count": 27,
   "metadata": {},
   "outputs": [],
   "source": [
    "import os\n",
    "\n",
    "os.makedirs(\"Data\",exist_ok=True)"
   ]
  },
  {
   "cell_type": "code",
   "execution_count": 28,
   "metadata": {},
   "outputs": [
    {
     "data": {
      "text/plain": [
       "('Data\\\\Homework.txt', <http.client.HTTPMessage at 0x26ef3864588>)"
      ]
     },
     "execution_count": 28,
     "metadata": {},
     "output_type": "execute_result"
    }
   ],
   "source": [
    "from urllib.request import urlretrieve\n",
    "\n",
    "urlretrieve(\"https://www.w3.org/TR/PNG/iso_8859-1.txt\",\"Data\\Homework.txt\")"
   ]
  },
  {
   "cell_type": "code",
   "execution_count": 29,
   "metadata": {},
   "outputs": [
    {
     "name": "stdout",
     "output_type": "stream",
     "text": [
      "Data 資料夾中存在 Homework.txt\n"
     ]
    }
   ],
   "source": [
    "if(\"Homework.txt\" in os.listdir(\"Data\")):\n",
    "    print(\"Data 資料夾中存在 Homework.txt\")\n",
    "else:\n",
    "    print(\"Data 資料夾中不存在 Homework.txt\")"
   ]
  },
  {
   "cell_type": "code",
   "execution_count": 30,
   "metadata": {},
   "outputs": [],
   "source": [
    "seq=\"Hello World\"\n",
    "with open(\"Data\\Homework.txt\",\"w\") as f:\n",
    "    f.write(seq)"
   ]
  },
  {
   "cell_type": "code",
   "execution_count": 31,
   "metadata": {},
   "outputs": [
    {
     "name": "stdout",
     "output_type": "stream",
     "text": [
      "Homework.txt 字數與 Hello World 相符\n"
     ]
    }
   ],
   "source": [
    "with open(\"Data\\Homework.txt\") as f:\n",
    "    if(len(seq)==len(f.read())):\n",
    "        print(\"Homework.txt 字數與 Hello World 相符\")\n",
    "    else:\n",
    "        print(\"Homework.txt 字數與 Hello World 不相符\")"
   ]
  }
 ],
 "metadata": {
  "kernelspec": {
   "display_name": "Python 3",
   "language": "python",
   "name": "python3"
  },
  "language_info": {
   "codemirror_mode": {
    "name": "ipython",
    "version": 3
   },
   "file_extension": ".py",
   "mimetype": "text/x-python",
   "name": "python",
   "nbconvert_exporter": "python",
   "pygments_lexer": "ipython3",
   "version": "3.7.4"
  }
 },
 "nbformat": 4,
 "nbformat_minor": 2
}
