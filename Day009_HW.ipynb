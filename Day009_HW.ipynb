{
 "cells": [
  {
   "cell_type": "code",
   "execution_count": 1,
   "metadata": {},
   "outputs": [],
   "source": [
    "import requests\n",
    "\n",
    "cookies={\"over18\":\"1\"}\n",
    "res=requests.get(\"https://www.ptt.cc/bbs/Beauty/M.1556291059.A.75A.html\",cookies=cookies)"
   ]
  },
  {
   "cell_type": "code",
   "execution_count": 2,
   "metadata": {},
   "outputs": [],
   "source": [
    "from bs4 import BeautifulSoup as bs\n",
    "\n",
    "soup=bs(res.text)"
   ]
  },
  {
   "cell_type": "code",
   "execution_count": 3,
   "metadata": {},
   "outputs": [
    {
     "name": "stdout",
     "output_type": "stream",
     "text": [
      "http://i.imgur.com/Cgb5oo1\n",
      "JPEG\n",
      "http://i.imgur.com/MgjHY4f\n",
      "JPEG\n",
      "http://i.imgur.com/yeoRtAs\n",
      "JPEG\n",
      "http://i.imgur.com/wsauNEW\n",
      "JPEG\n",
      "http://i.imgur.com/IjiETcs\n",
      "JPEG\n"
     ]
    }
   ],
   "source": [
    "from PIL import Image\n",
    "for i in soup.find_all(\"div\",class_=\"richcontent\"):\n",
    "    print(\"http://i.\"+i.find(\"a\").get(\"href\")[2:])\n",
    "    resi=requests.get(\"http://i.\"+i.find(\"a\").get(\"href\")[2:]+\".jpg\",stream=True)\n",
    "    image=Image.open(resi.raw)\n",
    "    print(image.format)\n",
    "    image.save(i.find(\"a\").get(\"href\")[12:]+\".jpg\")"
   ]
  },
  {
   "cell_type": "code",
   "execution_count": null,
   "metadata": {},
   "outputs": [],
   "source": []
  }
 ],
 "metadata": {
  "kernelspec": {
   "display_name": "Python 3",
   "language": "python",
   "name": "python3"
  },
  "language_info": {
   "codemirror_mode": {
    "name": "ipython",
    "version": 3
   },
   "file_extension": ".py",
   "mimetype": "text/x-python",
   "name": "python",
   "nbconvert_exporter": "python",
   "pygments_lexer": "ipython3",
   "version": "3.7.5"
  }
 },
 "nbformat": 4,
 "nbformat_minor": 2
}
